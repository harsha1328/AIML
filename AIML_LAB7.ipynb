{
  "nbformat": 4,
  "nbformat_minor": 0,
  "metadata": {
    "colab": {
      "provenance": []
    },
    "kernelspec": {
      "name": "python3",
      "display_name": "Python 3"
    },
    "language_info": {
      "name": "python"
    }
  },
  "cells": [
    {
      "cell_type": "markdown",
      "source": [
        "# Question 1 Implement the Bagging based Ensemble Model using CART(classification and Regression Trees)as base learners.No of Learners=100.Use cross validation as the model estimation method."
      ],
      "metadata": {
        "id": "sN9yI4Xvo6Jt"
      }
    },
    {
      "cell_type": "code",
      "execution_count": 1,
      "metadata": {
        "colab": {
          "base_uri": "https://localhost:8080/"
        },
        "id": "ocEChgDKiL8s",
        "outputId": "eeca3188-48b3-4dbd-8d97-65fa5ce9e6e9"
      },
      "outputs": [
        {
          "output_type": "execute_result",
          "data": {
            "text/plain": [
              "(768, 9)"
            ]
          },
          "metadata": {},
          "execution_count": 1
        }
      ],
      "source": [
        "import pandas\n",
        "from sklearn import model_selection\n",
        "from sklearn.ensemble import BaggingClassifier\n",
        "from sklearn.tree import DecisionTreeClassifier\n",
        "url = \"https://raw.githubusercontent.com/jbrownlee/Datasets/master/pima-indians-diabetes.data.csv\"\n",
        "names= ['preg','plas','pres','skin','test','mass','pedi','age','class']\n",
        "df = pandas.read_csv(url, names=names)\n",
        "df.shape\n"
      ]
    },
    {
      "cell_type": "markdown",
      "source": [
        "#Question 2:  "
      ],
      "metadata": {
        "id": "kdNe_Ax1qa6N"
      }
    },
    {
      "cell_type": "code",
      "source": [
        "array = df.values\n",
        "X=array[:,0:8]\n",
        "Y=array[:,8]\n",
        "Kfold=model_selection.KFold(n_splits=10,random_state=7,shuffle=True)\n",
        "cart=DecisionTreeClassifier()\n",
        "num_trees=100\n",
        "\n",
        "model=BaggingClassifier(estimator=cart,n_estimators=num_trees,random_state=7)\n",
        "results=model_selection.cross_val_score(model,X,Y,cv=Kfold)\n",
        "average_accuracy=sum(results)/len(results)\n",
        "print(\"Average Accuracy: \",average_accuracy)"
      ],
      "metadata": {
        "colab": {
          "base_uri": "https://localhost:8080/"
        },
        "id": "YtmIowm8jyow",
        "outputId": "e2522b7d-8e7c-447c-d15e-d501e0a8fea8"
      },
      "execution_count": 4,
      "outputs": [
        {
          "output_type": "stream",
          "name": "stdout",
          "text": [
            "Average Accuracy:  0.7578263841421736\n"
          ]
        }
      ]
    },
    {
      "cell_type": "code",
      "source": [
        "import pandas\n",
        "from sklearn import model_selection\n",
        "from sklearn.ensemble import AdaBoostClassifier\n",
        "from sklearn.tree import DecisionTreeClassifier\n",
        "url = \"https://raw.githubusercontent.com/jbrownlee/Datasets/master/pima-indians-diabetes.data.csv\"\n",
        "names= ['preg','plas','pres','skin','test','mass','pedi','age','class']\n",
        "df = pandas.read_csv(url, names=names)\n",
        "df.shape"
      ],
      "metadata": {
        "colab": {
          "base_uri": "https://localhost:8080/"
        },
        "id": "JgxTZDZgm00z",
        "outputId": "e734067e-0d3b-4a57-df7c-a28a8c88b673"
      },
      "execution_count": 5,
      "outputs": [
        {
          "output_type": "execute_result",
          "data": {
            "text/plain": [
              "(768, 9)"
            ]
          },
          "metadata": {},
          "execution_count": 5
        }
      ]
    },
    {
      "cell_type": "code",
      "source": [
        "array = df.values\n",
        "X=array[:,0:8]\n",
        "Y=array[:,8]\n",
        "Kfold=model_selection.KFold(n_splits=10,random_state=7,shuffle=True)\n",
        "cart=DecisionTreeClassifier()\n",
        "num_trees=100\n",
        "\n",
        "model=AdaBoostClassifier(n_estimators=num_trees,random_state=7)\n",
        "results=model_selection.cross_val_score(model,X,Y,cv=Kfold)\n",
        "average_accuracy=sum(results)/len(results)\n",
        "print(\"Average Accuracy: \",average_accuracy)"
      ],
      "metadata": {
        "colab": {
          "base_uri": "https://localhost:8080/"
        },
        "id": "Pqfpn3ODqt6D",
        "outputId": "961f93f5-5900-4e48-926b-78c37d74f463"
      },
      "execution_count": 7,
      "outputs": [
        {
          "output_type": "stream",
          "name": "stderr",
          "text": [
            "/usr/local/lib/python3.10/dist-packages/sklearn/ensemble/_weight_boosting.py:527: FutureWarning: The SAMME.R algorithm (the default) is deprecated and will be removed in 1.6. Use the SAMME algorithm to circumvent this warning.\n",
            "  warnings.warn(\n",
            "/usr/local/lib/python3.10/dist-packages/sklearn/ensemble/_weight_boosting.py:527: FutureWarning: The SAMME.R algorithm (the default) is deprecated and will be removed in 1.6. Use the SAMME algorithm to circumvent this warning.\n",
            "  warnings.warn(\n",
            "/usr/local/lib/python3.10/dist-packages/sklearn/ensemble/_weight_boosting.py:527: FutureWarning: The SAMME.R algorithm (the default) is deprecated and will be removed in 1.6. Use the SAMME algorithm to circumvent this warning.\n",
            "  warnings.warn(\n",
            "/usr/local/lib/python3.10/dist-packages/sklearn/ensemble/_weight_boosting.py:527: FutureWarning: The SAMME.R algorithm (the default) is deprecated and will be removed in 1.6. Use the SAMME algorithm to circumvent this warning.\n",
            "  warnings.warn(\n",
            "/usr/local/lib/python3.10/dist-packages/sklearn/ensemble/_weight_boosting.py:527: FutureWarning: The SAMME.R algorithm (the default) is deprecated and will be removed in 1.6. Use the SAMME algorithm to circumvent this warning.\n",
            "  warnings.warn(\n",
            "/usr/local/lib/python3.10/dist-packages/sklearn/ensemble/_weight_boosting.py:527: FutureWarning: The SAMME.R algorithm (the default) is deprecated and will be removed in 1.6. Use the SAMME algorithm to circumvent this warning.\n",
            "  warnings.warn(\n",
            "/usr/local/lib/python3.10/dist-packages/sklearn/ensemble/_weight_boosting.py:527: FutureWarning: The SAMME.R algorithm (the default) is deprecated and will be removed in 1.6. Use the SAMME algorithm to circumvent this warning.\n",
            "  warnings.warn(\n",
            "/usr/local/lib/python3.10/dist-packages/sklearn/ensemble/_weight_boosting.py:527: FutureWarning: The SAMME.R algorithm (the default) is deprecated and will be removed in 1.6. Use the SAMME algorithm to circumvent this warning.\n",
            "  warnings.warn(\n",
            "/usr/local/lib/python3.10/dist-packages/sklearn/ensemble/_weight_boosting.py:527: FutureWarning: The SAMME.R algorithm (the default) is deprecated and will be removed in 1.6. Use the SAMME algorithm to circumvent this warning.\n",
            "  warnings.warn(\n",
            "/usr/local/lib/python3.10/dist-packages/sklearn/ensemble/_weight_boosting.py:527: FutureWarning: The SAMME.R algorithm (the default) is deprecated and will be removed in 1.6. Use the SAMME algorithm to circumvent this warning.\n",
            "  warnings.warn(\n"
          ]
        },
        {
          "output_type": "stream",
          "name": "stdout",
          "text": [
            "Average Accuracy:  0.7578605604921395\n"
          ]
        }
      ]
    },
    {
      "cell_type": "markdown",
      "source": [
        "#Question 3: Implement the Bagging based Ensemble Model using K-Nearest Neighbor classification as base learners.No of Learners=100.Use cross validation as the model estimation method"
      ],
      "metadata": {
        "id": "RqBPamY3sB1X"
      }
    },
    {
      "cell_type": "code",
      "source": [
        "import pandas\n",
        "from sklearn import model_selection\n",
        "from sklearn.ensemble import AdaBoostClassifier\n",
        "from sklearn.neighbors import KNeighborsClassifier\n",
        "url = \"https://raw.githubusercontent.com/jbrownlee/Datasets/master/pima-indians-diabetes.data.csv\"\n",
        "names= ['preg','plas','pres','skin','test','mass','pedi','age','class']\n",
        "df = pandas.read_csv(url, names=names)\n",
        "df.shape"
      ],
      "metadata": {
        "colab": {
          "base_uri": "https://localhost:8080/"
        },
        "id": "yKcH4kyyrFDP",
        "outputId": "d82b0be3-b088-4969-b42f-036addc20f32"
      },
      "execution_count": 9,
      "outputs": [
        {
          "output_type": "execute_result",
          "data": {
            "text/plain": [
              "(768, 9)"
            ]
          },
          "metadata": {},
          "execution_count": 9
        }
      ]
    },
    {
      "cell_type": "code",
      "source": [
        "array = df.values\n",
        "X=array[:,0:8]\n",
        "Y=array[:,8]\n",
        "Kfold=model_selection.KFold(n_splits=10,random_state=7,shuffle=True)\n",
        "knn=KNeighborsClassifier()\n",
        "num_learners=100\n",
        "\n",
        "model=BaggingClassifier(estimator=knn ,n_estimators=num_learners,random_state=7)\n",
        "results=model_selection.cross_val_score(model,X,Y,cv=Kfold)\n",
        "average_accuracy=sum(results)/len(results)\n",
        "print(\"Average Accuracy: \",average_accuracy)"
      ],
      "metadata": {
        "colab": {
          "base_uri": "https://localhost:8080/"
        },
        "id": "oVBsHb0NsVXI",
        "outputId": "c3c6b42a-6a5d-4ea4-ac03-13fa5c07f1ae"
      },
      "execution_count": 13,
      "outputs": [
        {
          "output_type": "stream",
          "name": "stdout",
          "text": [
            "Average Accuracy:  0.7188140806561858\n"
          ]
        }
      ]
    },
    {
      "cell_type": "code",
      "source": [],
      "metadata": {
        "id": "eiwt1juEt1iA"
      },
      "execution_count": null,
      "outputs": []
    }
  ]
}